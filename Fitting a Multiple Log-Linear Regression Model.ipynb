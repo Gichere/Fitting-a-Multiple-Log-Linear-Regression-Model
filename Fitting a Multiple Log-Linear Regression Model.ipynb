{
 "cells": [
  {
   "cell_type": "code",
   "execution_count": 1,
   "metadata": {},
   "outputs": [],
   "source": [
    "import pandas as pd"
   ]
  },
  {
   "cell_type": "code",
   "execution_count": 2,
   "metadata": {},
   "outputs": [],
   "source": [
    "import numpy as np"
   ]
  },
  {
   "cell_type": "code",
   "execution_count": 3,
   "metadata": {},
   "outputs": [],
   "source": [
    "import statsmodels.formula.api as smf"
   ]
  },
  {
   "cell_type": "code",
   "execution_count": 5,
   "metadata": {},
   "outputs": [],
   "source": [
    "from sklearn.model_selection import train_test_split"
   ]
  },
  {
   "cell_type": "code",
   "execution_count": 6,
   "metadata": {},
   "outputs": [],
   "source": [
    "rawBostonData = pd.read_csv('https://raw.githubusercontent.com/PacktWorkshops/The-Data-Science-Workshop/master/Chapter02/Dataset/Boston.csv')"
   ]
  },
  {
   "cell_type": "code",
   "execution_count": 7,
   "metadata": {},
   "outputs": [],
   "source": [
    "#Check for missing values (null values) in the data frame and drop them to have a clean dataset"
   ]
  },
  {
   "cell_type": "code",
   "execution_count": 8,
   "metadata": {},
   "outputs": [],
   "source": [
    "rawBostonData = rawBostonData.dropna()"
   ]
  },
  {
   "cell_type": "code",
   "execution_count": 9,
   "metadata": {},
   "outputs": [],
   "source": [
    "#Check for duplicate records in the data frame and drop them to have a clean dataset"
   ]
  },
  {
   "cell_type": "code",
   "execution_count": 10,
   "metadata": {},
   "outputs": [],
   "source": [
    "#Rename the data frame columns so they are meaningful"
   ]
  },
  {
   "cell_type": "code",
   "execution_count": 12,
   "metadata": {},
   "outputs": [],
   "source": [
    "renamedBostonData = rawBostonData.rename(columns = {'CRIM':'crimeRatePerCapita', \n",
    "  ' ZN ':'landOver25K_sqft', \n",
    "  'INDUS ':'non-retailLandProptn', \n",
    "  'CHAS':'riverDummy', \n",
    "  'NOX':'nitrixOxide_pp10m', \n",
    "  'RM':'AvgNo.RoomsPerDwelling', \n",
    "  'AGE':'ProptnOwnerOccupied', \n",
    "  'DIS':'weightedDist', \n",
    "  'RAD':'radialHighwaysAccess', \n",
    "  'TAX':'propTaxRate_per10K', \n",
    "  'PTRATIO':'pupilTeacherRatio', \n",
    "  'LSTAT':'pctLowerStatus', \n",
    "  'MEDV':'medianValue_Ks'}) "
   ]
  },
  {
   "cell_type": "code",
   "execution_count": 13,
   "metadata": {},
   "outputs": [
    {
     "data": {
      "text/html": [
       "<div>\n",
       "<style scoped>\n",
       "    .dataframe tbody tr th:only-of-type {\n",
       "        vertical-align: middle;\n",
       "    }\n",
       "\n",
       "    .dataframe tbody tr th {\n",
       "        vertical-align: top;\n",
       "    }\n",
       "\n",
       "    .dataframe thead th {\n",
       "        text-align: right;\n",
       "    }\n",
       "</style>\n",
       "<table border=\"1\" class=\"dataframe\">\n",
       "  <thead>\n",
       "    <tr style=\"text-align: right;\">\n",
       "      <th></th>\n",
       "      <th>crimeRatePerCapita</th>\n",
       "      <th>landOver25K_sqft</th>\n",
       "      <th>non-retailLandProptn</th>\n",
       "      <th>riverDummy</th>\n",
       "      <th>nitrixOxide_pp10m</th>\n",
       "      <th>AvgNo.RoomsPerDwelling</th>\n",
       "      <th>ProptnOwnerOccupied</th>\n",
       "      <th>weightedDist</th>\n",
       "      <th>radialHighwaysAccess</th>\n",
       "      <th>propTaxRate_per10K</th>\n",
       "      <th>pupilTeacherRatio</th>\n",
       "      <th>pctLowerStatus</th>\n",
       "      <th>medianValue_Ks</th>\n",
       "    </tr>\n",
       "  </thead>\n",
       "  <tbody>\n",
       "    <tr>\n",
       "      <th>0</th>\n",
       "      <td>0.00632</td>\n",
       "      <td>18.0</td>\n",
       "      <td>2.31</td>\n",
       "      <td>0</td>\n",
       "      <td>0.538</td>\n",
       "      <td>6.575</td>\n",
       "      <td>65.2</td>\n",
       "      <td>4.0900</td>\n",
       "      <td>1</td>\n",
       "      <td>296</td>\n",
       "      <td>15.3</td>\n",
       "      <td>4.98</td>\n",
       "      <td>24.0</td>\n",
       "    </tr>\n",
       "    <tr>\n",
       "      <th>1</th>\n",
       "      <td>0.02731</td>\n",
       "      <td>0.0</td>\n",
       "      <td>7.07</td>\n",
       "      <td>0</td>\n",
       "      <td>0.469</td>\n",
       "      <td>6.421</td>\n",
       "      <td>78.9</td>\n",
       "      <td>4.9671</td>\n",
       "      <td>2</td>\n",
       "      <td>242</td>\n",
       "      <td>17.8</td>\n",
       "      <td>9.14</td>\n",
       "      <td>21.6</td>\n",
       "    </tr>\n",
       "    <tr>\n",
       "      <th>2</th>\n",
       "      <td>0.02729</td>\n",
       "      <td>0.0</td>\n",
       "      <td>7.07</td>\n",
       "      <td>0</td>\n",
       "      <td>0.469</td>\n",
       "      <td>7.185</td>\n",
       "      <td>61.1</td>\n",
       "      <td>4.9671</td>\n",
       "      <td>2</td>\n",
       "      <td>242</td>\n",
       "      <td>17.8</td>\n",
       "      <td>4.03</td>\n",
       "      <td>34.7</td>\n",
       "    </tr>\n",
       "    <tr>\n",
       "      <th>3</th>\n",
       "      <td>0.03237</td>\n",
       "      <td>0.0</td>\n",
       "      <td>2.18</td>\n",
       "      <td>0</td>\n",
       "      <td>0.458</td>\n",
       "      <td>6.998</td>\n",
       "      <td>45.8</td>\n",
       "      <td>6.0622</td>\n",
       "      <td>3</td>\n",
       "      <td>222</td>\n",
       "      <td>18.7</td>\n",
       "      <td>2.94</td>\n",
       "      <td>33.4</td>\n",
       "    </tr>\n",
       "    <tr>\n",
       "      <th>4</th>\n",
       "      <td>0.06905</td>\n",
       "      <td>0.0</td>\n",
       "      <td>2.18</td>\n",
       "      <td>0</td>\n",
       "      <td>0.458</td>\n",
       "      <td>7.147</td>\n",
       "      <td>54.2</td>\n",
       "      <td>6.0622</td>\n",
       "      <td>3</td>\n",
       "      <td>222</td>\n",
       "      <td>18.7</td>\n",
       "      <td>5.33</td>\n",
       "      <td>36.2</td>\n",
       "    </tr>\n",
       "  </tbody>\n",
       "</table>\n",
       "</div>"
      ],
      "text/plain": [
       "   crimeRatePerCapita  landOver25K_sqft  non-retailLandProptn  riverDummy  \\\n",
       "0             0.00632              18.0                  2.31           0   \n",
       "1             0.02731               0.0                  7.07           0   \n",
       "2             0.02729               0.0                  7.07           0   \n",
       "3             0.03237               0.0                  2.18           0   \n",
       "4             0.06905               0.0                  2.18           0   \n",
       "\n",
       "   nitrixOxide_pp10m  AvgNo.RoomsPerDwelling  ProptnOwnerOccupied  \\\n",
       "0              0.538                   6.575                 65.2   \n",
       "1              0.469                   6.421                 78.9   \n",
       "2              0.469                   7.185                 61.1   \n",
       "3              0.458                   6.998                 45.8   \n",
       "4              0.458                   7.147                 54.2   \n",
       "\n",
       "   weightedDist  radialHighwaysAccess  propTaxRate_per10K  pupilTeacherRatio  \\\n",
       "0        4.0900                     1                 296               15.3   \n",
       "1        4.9671                     2                 242               17.8   \n",
       "2        4.9671                     2                 242               17.8   \n",
       "3        6.0622                     3                 222               18.7   \n",
       "4        6.0622                     3                 222               18.7   \n",
       "\n",
       "   pctLowerStatus  medianValue_Ks  \n",
       "0            4.98            24.0  \n",
       "1            9.14            21.6  \n",
       "2            4.03            34.7  \n",
       "3            2.94            33.4  \n",
       "4            5.33            36.2  "
      ]
     },
     "execution_count": 13,
     "metadata": {},
     "output_type": "execute_result"
    }
   ],
   "source": [
    "renamedBostonData.head()"
   ]
  },
  {
   "cell_type": "code",
   "execution_count": 14,
   "metadata": {},
   "outputs": [],
   "source": [
    "#Divide the data frame into train and test sets, as shown in the following code snippet"
   ]
  },
  {
   "cell_type": "code",
   "execution_count": 15,
   "metadata": {},
   "outputs": [],
   "source": [
    "X = renamedBostonData.drop('crimeRatePerCapita', axis = 1) \n",
    "y = renamedBostonData[['crimeRatePerCapita']] \n",
    "seed = 10 \n",
    "test_data_size = 0.3 \n",
    "X_train, X_test, y_train, y_test = train_test_split(X, y, test_size = test_data_size, random_state = seed) \n",
    "train_data = pd.concat([X_train, y_train], axis = 1) \n",
    "test_data = pd.concat([X_test, y_test], axis = 1) "
   ]
  },
  {
   "cell_type": "code",
   "execution_count": 16,
   "metadata": {},
   "outputs": [],
   "source": [
    "#We choose a test data size of 30%, which is 0.3. The train_test_split function is used to achieve this. We set the seed of the random number generator so that we can obtain a reproducible split each time we run this code. An arbitrary value of 10 is used here. It is good model-building practice to divide a dataset being used to develop a model into at least two parts. One part is used to develop the model and it is called training set (X_train and y_train combined)."
   ]
  },
  {
   "cell_type": "code",
   "execution_count": 20,
   "metadata": {},
   "outputs": [],
   "source": [
    "#Define a linear regression model and assign it to a variable. Remember to use the log function to transform the dependent variable in the formula string, and also include more than one independent variable. Use **2 to specify the interaction of order 2:"
   ]
  },
  {
   "cell_type": "code",
   "execution_count": 18,
   "metadata": {},
   "outputs": [],
   "source": [
    "multiLogLinMod = smf.ols(formula=\\\n",
    "'np.log(crimeRatePerCapita) ~ \\\n",
    "(pctLowerStatus + radialHighwaysAccess + medianValue_Ks + nitrixOxide_pp10m)**2',\\\n",
    "data=train_data)"
   ]
  },
  {
   "cell_type": "code",
   "execution_count": 19,
   "metadata": {},
   "outputs": [],
   "source": [
    "#Call the fit method of the model instance and assign the results of the method to a new variable"
   ]
  },
  {
   "cell_type": "code",
   "execution_count": 24,
   "metadata": {},
   "outputs": [],
   "source": [
    "multiLogLinModResult=multiLogLinMod.fit()"
   ]
  },
  {
   "cell_type": "code",
   "execution_count": 25,
   "metadata": {},
   "outputs": [
    {
     "name": "stdout",
     "output_type": "stream",
     "text": [
      "                                OLS Regression Results                                \n",
      "======================================================================================\n",
      "Dep. Variable:     np.log(crimeRatePerCapita)   R-squared:                       0.884\n",
      "Model:                                    OLS   Adj. R-squared:                  0.881\n",
      "Method:                         Least Squares   F-statistic:                     261.5\n",
      "Date:                        Thu, 23 Apr 2020   Prob (F-statistic):          7.79e-154\n",
      "Time:                                19:41:40   Log-Likelihood:                -394.39\n",
      "No. Observations:                         354   AIC:                             810.8\n",
      "Df Residuals:                             343   BIC:                             853.3\n",
      "Df Model:                                  10                                         \n",
      "Covariance Type:                    nonrobust                                         \n",
      "==========================================================================================================\n",
      "                                             coef    std err          t      P>|t|      [0.025      0.975]\n",
      "----------------------------------------------------------------------------------------------------------\n",
      "Intercept                                 -5.4707      1.490     -3.671      0.000      -8.402      -2.540\n",
      "pctLowerStatus                             0.1541      0.049      3.161      0.002       0.058       0.250\n",
      "radialHighwaysAccess                       0.4697      0.052      9.070      0.000       0.368       0.572\n",
      "medianValue_Ks                            -0.1457      0.044     -3.325      0.001      -0.232      -0.059\n",
      "nitrixOxide_pp10m                          3.4509      3.000      1.150      0.251      -2.450       9.352\n",
      "pctLowerStatus:radialHighwaysAccess       -0.0006      0.001     -0.576      0.565      -0.003       0.002\n",
      "pctLowerStatus:medianValue_Ks             -0.0041      0.001     -4.159      0.000      -0.006      -0.002\n",
      "pctLowerStatus:nitrixOxide_pp10m          -0.0783      0.081     -0.964      0.336      -0.238       0.082\n",
      "radialHighwaysAccess:medianValue_Ks       -0.0027      0.001     -2.694      0.007      -0.005      -0.001\n",
      "radialHighwaysAccess:nitrixOxide_pp10m    -0.4234      0.066     -6.404      0.000      -0.553      -0.293\n",
      "medianValue_Ks:nitrixOxide_pp10m           0.3552      0.092      3.869      0.000       0.175       0.536\n",
      "==============================================================================\n",
      "Omnibus:                        4.124   Durbin-Watson:                   1.966\n",
      "Prob(Omnibus):                  0.127   Jarque-Bera (JB):                4.107\n",
      "Skew:                           0.175   Prob(JB):                        0.128\n",
      "Kurtosis:                       3.395   Cond. No.                     3.29e+04\n",
      "==============================================================================\n",
      "\n",
      "Warnings:\n",
      "[1] Standard Errors assume that the covariance matrix of the errors is correctly specified.\n",
      "[2] The condition number is large, 3.29e+04. This might indicate that there are\n",
      "strong multicollinearity or other numerical problems.\n"
     ]
    }
   ],
   "source": [
    "print(multiLogLinModResult.summary())"
   ]
  },
  {
   "cell_type": "code",
   "execution_count": 26,
   "metadata": {},
   "outputs": [],
   "source": [
    "#our model explained 88 percent of the variability in the transformed dependent variable, which is really good"
   ]
  },
  {
   "cell_type": "code",
   "execution_count": 27,
   "metadata": {},
   "outputs": [],
   "source": [
    "#A good F-value is expected to be larger than one. The model above has an F-statistic value of 261.5, which is larger than one, and a p-value (Prob (F-statistic)) of approximately zero. The risk of making a mistake and rejecting the null hypothesis when we should not (known as a Type I error in hypothesis testing), is less than the 5% limit we chose to live with at the beginning of the hypothesis test. Because the p-value is less than 0.05, we reject the null hypothesis about our model above. Therefore, we state that the model is statistically significant at the chosen 95% confidence level."
   ]
  },
  {
   "cell_type": "code",
   "execution_count": null,
   "metadata": {},
   "outputs": [],
   "source": []
  }
 ],
 "metadata": {
  "kernelspec": {
   "display_name": "Python 3",
   "language": "python",
   "name": "python3"
  },
  "language_info": {
   "codemirror_mode": {
    "name": "ipython",
    "version": 3
   },
   "file_extension": ".py",
   "mimetype": "text/x-python",
   "name": "python",
   "nbconvert_exporter": "python",
   "pygments_lexer": "ipython3",
   "version": "3.7.6"
  }
 },
 "nbformat": 4,
 "nbformat_minor": 4
}
